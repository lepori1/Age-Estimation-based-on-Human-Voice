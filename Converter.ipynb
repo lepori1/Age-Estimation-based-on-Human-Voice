{
 "cells": [
  {
   "cell_type": "markdown",
   "metadata": {},
   "source": [
    "# Convert mp3 files in wav files"
   ]
  },
  {
   "cell_type": "code",
   "execution_count": 1,
   "metadata": {},
   "outputs": [
    {
     "name": "stdout",
     "output_type": "stream",
     "text": [
      "cv-invalid\n",
      "cv-other-dev\n",
      "cv-other-test\n",
      "cv-other-train\n",
      "cv-valid-dev\n",
      "cv-valid-test\n",
      "cv-valid-train\n"
     ]
    }
   ],
   "source": [
    "import subprocess\n",
    "from os import listdir\n",
    "from os.path import isfile, join\n",
    "\n",
    "dirs = [\"cv-invalid\", \"cv-other-dev\", \"cv-other-test\", \"cv-other-train\", \"cv-valid-dev\", \"cv-valid-test\", \"cv-valid-train\"]\n",
    "for dir in dirs:\n",
    "    print(dir)\n",
    "    for file in listdir(join(\"cv_corpus_v1\", dir)):\n",
    "        if isfile(join(\"cv_corpus_v1\", dir, file)):\n",
    "            #print(join(\"cv_corpus_v1\", \"wav-files\", dir, \"{}.wav\".format(file[:-4])))\n",
    "            subprocess.call(['ffmpeg', '-i', join(\"cv_corpus_v1\", dir, file), join(\"cv_corpus_v1\", \"wav-files\", dir, \"{}.wav\".format(file[:-4]))])"
   ]
  },
  {
   "cell_type": "markdown",
   "metadata": {},
   "source": [
    "<br>\n",
    "Get data from mp3 file."
   ]
  },
  {
   "cell_type": "code",
   "execution_count": 1,
   "metadata": {},
   "outputs": [
    {
     "data": {
      "text/plain": [
       "'\\nfrom pydub import AudioSegment\\nAudioSegment.converter = \"C:\\\\Program Files\\\\ffmpeg-4.1-win64-static\\\\bin\\\\ffmpeg.exe\"\\nAudioSegment.ffmpeg = \"C:\\\\Program Files\\\\ffmpeg-4.1-win64-static\\\\bin\\\\ffmpeg.exe\"\\nAudioSegment.ffprobe =\"C:\\\\Program Files\\\\ffmpeg-4.1-win64-static\\\\bin\\\\ffprobe.exe\"\\n\\nsound = AudioSegment.from_mp3(\"cv_corpus_v1\\\\cv-valid-train\\\\sample-000000.mp3\")\\n\\n# sound._data is a bytestring\\nraw_data = sound._data\\n'"
      ]
     },
     "execution_count": 1,
     "metadata": {},
     "output_type": "execute_result"
    }
   ],
   "source": [
    "'''\n",
    "from pydub import AudioSegment\n",
    "AudioSegment.converter = \"C:\\\\Program Files\\\\ffmpeg-4.1-win64-static\\\\bin\\\\ffmpeg.exe\"\n",
    "AudioSegment.ffmpeg = \"C:\\\\Program Files\\\\ffmpeg-4.1-win64-static\\\\bin\\\\ffmpeg.exe\"\n",
    "AudioSegment.ffprobe =\"C:\\\\Program Files\\\\ffmpeg-4.1-win64-static\\\\bin\\\\ffprobe.exe\"\n",
    "\n",
    "sound = AudioSegment.from_mp3(\"cv_corpus_v1\\cv-valid-train\\sample-000000.mp3\")\n",
    "\n",
    "# sound._data is a bytestring\n",
    "raw_data = sound._data\n",
    "'''"
   ]
  }
 ],
 "metadata": {
  "kernelspec": {
   "display_name": "Python 3",
   "language": "python",
   "name": "python3"
  },
  "language_info": {
   "codemirror_mode": {
    "name": "ipython",
    "version": 3
   },
   "file_extension": ".py",
   "mimetype": "text/x-python",
   "name": "python",
   "nbconvert_exporter": "python",
   "pygments_lexer": "ipython3",
   "version": "3.6.6"
  }
 },
 "nbformat": 4,
 "nbformat_minor": 2
}
